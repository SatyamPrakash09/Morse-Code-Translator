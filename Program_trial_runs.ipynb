{
  "nbformat": 4,
  "nbformat_minor": 0,
  "metadata": {
    "colab": {
      "provenance": [],
      "gpuType": "T4",
      "authorship_tag": "ABX9TyMvnBzzn0pthkCs+NuPkJc6",
      "include_colab_link": true
    },
    "kernelspec": {
      "name": "python3",
      "display_name": "Python 3"
    },
    "language_info": {
      "name": "python"
    },
    "accelerator": "GPU"
  },
  "cells": [
    {
      "cell_type": "markdown",
      "metadata": {
        "id": "view-in-github",
        "colab_type": "text"
      },
      "source": [
        "<a href=\"https://colab.research.google.com/github/SatyamPrakash09/Morse-Code-Translator/blob/main/Program_trial_runs.ipynb\" target=\"_parent\"><img src=\"https://colab.research.google.com/assets/colab-badge.svg\" alt=\"Open In Colab\"/></a>"
      ]
    },
    {
      "cell_type": "code",
      "execution_count": 3,
      "metadata": {
        "colab": {
          "base_uri": "https://localhost:8080/"
        },
        "id": "Ehdnu2mVCzp_",
        "outputId": "cd7022c6-1cc1-4b5f-abda-ecaf07863aad"
      },
      "outputs": [
        {
          "output_type": "stream",
          "name": "stdout",
          "text": [
            "\n",
            "\n",
            "Choose options:\n",
            "1.Text to Morse code\n",
            "2.Morse code to Text\n",
            "3.Exit()\n",
            "Enter 1, 2 or 3: 3\n",
            "\n",
            "\n",
            "Exiting..........\n"
          ]
        }
      ],
      "source": [
        "morse_code_dict = {\n",
        "    # Letters\n",
        "    'A': '.-', 'B': '-...', 'C': '-.-.', 'D': '-..', 'E': '.',\n",
        "    'F': '..-.', 'G': '--.', 'H': '....', 'I': '..', 'J': '.---',\n",
        "    'K': '-.-', 'L': '.-..', 'M': '--', 'N': '-.', 'O': '---',\n",
        "    'P': '.--.', 'Q': '--.-', 'R': '.-.', 'S': '...', 'T': '-',\n",
        "    'U': '..-', 'V': '...-', 'W': '.--', 'X': '-..-', 'Y': '-.--',\n",
        "    'Z': '--..',\n",
        "\n",
        "    # Digits\n",
        "    '0': '-----', '1': '.----', '2': '..---', '3': '...--',\n",
        "    '4': '....-', '5': '.....', '6': '-....', '7': '--...',\n",
        "    '8': '---..', '9': '----.',\n",
        "\n",
        "    # Punctuation\n",
        "    '.': '.-.-.-', ',': '--..--', '?': '..--..', \"'\": '.----.',\n",
        "    '!': '-.-.--', '/': '-..-.', '(': '-.--.', ')': '-.--.-',\n",
        "    '&': '.-...', ':': '---...', ';': '-.-.-.', '=': '-...-',\n",
        "    '+': '.-.-.', '-': '-....-', '_': '..--.-', '\"': '.-..-.',\n",
        "    '$': '...-..-', '@': '.--.-.',\n",
        "\n",
        "    # Space (optional - some use '/' for word separation)\n",
        "    ' ': ' '\n",
        "}\n",
        "\n",
        "#creating reverse morse code dictionary to convert morse code into text\n",
        "reversed_morse_dict = {v: k for k, v in morse_code_dict.items()}\n",
        "\n",
        "#converts text into marse code\n",
        "def text_to_morse(text):\n",
        "    text = text.upper()\n",
        "    morse_code=[]\n",
        "\n",
        "    for i in text:\n",
        "        if i in morse_code_dict:\n",
        "            morse_code.append(morse_code_dict[i])\n",
        "        else:\n",
        "            morse_code.append(i) # if there is an unfamiliar char then it will just add exactly the same in morse_code[].\n",
        "\n",
        "    return ' '.join(morse_code)\n",
        "\n",
        "#convert user morse code into readable text\n",
        "def morse_to_text(morse):\n",
        "    # In morse code there is 1 space b/w letters and 3 spacing b/w words\n",
        "    words = morse.strip().split(\"   \")# 3 spacing\n",
        "    decoded_morse=[]\n",
        "    for word in words:\n",
        "        letters = word.split()\n",
        "        decoded_word = ''\n",
        "        for i in letters:\n",
        "            if i in reversed_morse_dict:\n",
        "                decoded_word += reversed_morse_dict[i]\n",
        "            else:\n",
        "                decoded_word += \"?\" #for unknown script\n",
        "        decoded_morse.append(decoded_word)\n",
        "    return \" \".join(decoded_morse)\n",
        "\n",
        "\n",
        "#get user choice if it want to convert morse to text or text to morse\n",
        "while True:\n",
        "    print('\\n')\n",
        "    choice = input(\"Choose options:\\n1.Text to Morse code\\n2.Morse code to Text\\n3.Exit()\\nEnter 1, 2 or 3: \")\n",
        "    print(\"\\n\")\n",
        "    if choice == \"1\":\n",
        "        text_input = input(\"Enter the text you want to convert into morse code: \")\n",
        "        result = text_to_morse(text_input)\n",
        "        print(\"\\nMorse code: \\n\",result)\n",
        "        print(\"\\n\")\n",
        "\n",
        "    elif choice == \"2\":\n",
        "        morse_input = input(\"Enter the ,orse code you want to convert into text: \")\n",
        "        result = morse_to_text(morse_input)\n",
        "        print(\"\\nText: \\n\",result)\n",
        "        print(\"\\n\")\n",
        "    elif choice == \"3\":\n",
        "        print(\"Exiting..........\")\n",
        "        break\n",
        "    else:\n",
        "        print(\"Invalid option selected !!!\\nPlease enter 1, 2 or 3\")"
      ]
    },
    {
      "cell_type": "markdown",
      "source": [],
      "metadata": {
        "id": "lzo2TBhND1ki"
      }
    },
    {
      "cell_type": "code",
      "source": [],
      "metadata": {
        "id": "rdmIrpUjD24q"
      },
      "execution_count": null,
      "outputs": []
    }
  ]
}